{
 "cells": [
  {
   "cell_type": "markdown",
   "metadata": {
    "id": "Y2tb3P5kWjku"
   },
   "source": [
    "# HW1: Introduction to TensorFlow\n",
    "Welcome to Homework 1  &#128522;&#9996;"
   ]
  },
  {
   "cell_type": "markdown",
   "metadata": {
    "id": "o2GcZKE6kPKn"
   },
   "source": [
    " <div dir='rtl'style=\"text-align: right;font-family:verdana;\">\n",
    "\n",
    "کتابخانه  TensorFlow \n",
    "به طور گسترده در مسائل یادگیری ماشین کاربرد دارد. در این تمرین نحوه محاسبات و نحوه تعریف یک شبکه عصبی ساده را در TensorFlow یاد می‌گیریم.  برای شروع ابتدا کتابخانه‌ها و پکیج‌های مورد نیاز را import می‌کنیم. "
   ]
  },
  {
   "cell_type": "code",
   "execution_count": 1,
   "metadata": {
    "id": "KQlPcZv6We7G"
   },
   "outputs": [
    {
     "name": "stderr",
     "output_type": "stream",
     "text": [
      "2021-11-17 23:56:11.036873: I tensorflow/stream_executor/platform/default/dso_loader.cc:49] Successfully opened dynamic library libcudart.so.11.0\n"
     ]
    }
   ],
   "source": [
    "\n",
    "# %tensorflow_version 2.x\n",
    "import tensorflow as tf\n",
    "import numpy as np\n",
    "import matplotlib.pyplot as plt"
   ]
  },
  {
   "cell_type": "markdown",
   "metadata": {
    "id": "c0GmYnTXwr_N"
   },
   "source": [
    "## A) تنسورها"
   ]
  },
  {
   "cell_type": "markdown",
   "metadata": {
    "id": "f5IpuCZzerrE"
   },
   "source": [
    " <div dir='rtl'style=\"text-align: right;font-family:verdana;\">\n",
    " \n",
    " همانطور که می‌دانیم Tensor ها به عنوان آرایه‌های n بعدی از انواع داده‌های پایه مانند یک رشته (string) یا عدد صحیح (integer) شناخته می‌شوند. \n",
    " در سلول‌های زیر مثال‌هایی از Tensor های صفر و یک بعدی آورده شده است.\n"
   ]
  },
  {
   "cell_type": "code",
   "execution_count": 2,
   "metadata": {
    "colab": {
     "base_uri": "https://localhost:8080/"
    },
    "id": "GO4orTmdWe36",
    "outputId": "8d4707a1-3953-4806-b359-1ecb7b1bd33e"
   },
   "outputs": [
    {
     "name": "stdout",
     "output_type": "stream",
     "text": [
      "`Science` is a 0-d Tensor\n",
      "`number` is a 0-d Tensor\n"
     ]
    },
    {
     "name": "stderr",
     "output_type": "stream",
     "text": [
      "2021-11-17 23:56:12.744548: I tensorflow/compiler/jit/xla_cpu_device.cc:41] Not creating XLA devices, tf_xla_enable_xla_devices not set\n",
      "2021-11-17 23:56:12.746765: I tensorflow/stream_executor/platform/default/dso_loader.cc:49] Successfully opened dynamic library libcuda.so.1\n",
      "2021-11-17 23:56:12.821096: I tensorflow/stream_executor/cuda/cuda_gpu_executor.cc:941] successful NUMA node read from SysFS had negative value (-1), but there must be at least one NUMA node, so returning NUMA node zero\n",
      "2021-11-17 23:56:12.821759: I tensorflow/core/common_runtime/gpu/gpu_device.cc:1720] Found device 0 with properties: \n",
      "pciBusID: 0000:01:00.0 name: GeForce MX230 computeCapability: 6.1\n",
      "coreClock: 1.531GHz coreCount: 2 deviceMemorySize: 1.96GiB deviceMemoryBandwidth: 52.21GiB/s\n",
      "2021-11-17 23:56:12.821830: I tensorflow/stream_executor/platform/default/dso_loader.cc:49] Successfully opened dynamic library libcudart.so.11.0\n",
      "2021-11-17 23:56:12.833928: I tensorflow/stream_executor/platform/default/dso_loader.cc:49] Successfully opened dynamic library libcublas.so.11\n",
      "2021-11-17 23:56:12.834105: I tensorflow/stream_executor/platform/default/dso_loader.cc:49] Successfully opened dynamic library libcublasLt.so.11\n",
      "2021-11-17 23:56:12.837444: I tensorflow/stream_executor/platform/default/dso_loader.cc:49] Successfully opened dynamic library libcufft.so.10\n",
      "2021-11-17 23:56:12.839230: I tensorflow/stream_executor/platform/default/dso_loader.cc:49] Successfully opened dynamic library libcurand.so.10\n",
      "2021-11-17 23:56:12.839680: W tensorflow/stream_executor/platform/default/dso_loader.cc:60] Could not load dynamic library 'libcusolver.so.10'; dlerror: libcusolver.so.10: cannot open shared object file: No such file or directory\n",
      "2021-11-17 23:56:12.842675: I tensorflow/stream_executor/platform/default/dso_loader.cc:49] Successfully opened dynamic library libcusparse.so.11\n",
      "2021-11-17 23:56:12.842915: W tensorflow/stream_executor/platform/default/dso_loader.cc:60] Could not load dynamic library 'libcudnn.so.8'; dlerror: libcudnn.so.8: cannot open shared object file: No such file or directory\n",
      "2021-11-17 23:56:12.842942: W tensorflow/core/common_runtime/gpu/gpu_device.cc:1757] Cannot dlopen some GPU libraries. Please make sure the missing libraries mentioned above are installed properly if you would like to use GPU. Follow the guide at https://www.tensorflow.org/install/gpu for how to download and setup the required libraries for your platform.\n",
      "Skipping registering GPU devices...\n",
      "2021-11-17 23:56:12.845542: I tensorflow/core/platform/cpu_feature_guard.cc:142] This TensorFlow binary is optimized with oneAPI Deep Neural Network Library (oneDNN) to use the following CPU instructions in performance-critical operations:  AVX2 FMA\n",
      "To enable them in other operations, rebuild TensorFlow with the appropriate compiler flags.\n",
      "2021-11-17 23:56:12.847102: I tensorflow/compiler/jit/xla_gpu_device.cc:99] Not creating XLA devices, tf_xla_enable_xla_devices not set\n",
      "2021-11-17 23:56:12.847186: I tensorflow/core/common_runtime/gpu/gpu_device.cc:1261] Device interconnect StreamExecutor with strength 1 edge matrix:\n",
      "2021-11-17 23:56:12.847215: I tensorflow/core/common_runtime/gpu/gpu_device.cc:1267]      \n"
     ]
    }
   ],
   "source": [
    "Science = tf.constant(\"chemistry\", tf.string)\n",
    "number = tf.constant(3.14159265358, tf.float64)\n",
    "\n",
    "print(\"`Science` is a {}-d Tensor\".format(tf.rank(Science).numpy()))\n",
    "print(\"`number` is a {}-d Tensor\".format(tf.rank(number).numpy()))"
   ]
  },
  {
   "cell_type": "code",
   "execution_count": 3,
   "metadata": {
    "colab": {
     "base_uri": "https://localhost:8080/"
    },
    "id": "XNZV65pog4bc",
    "outputId": "f15b1c23-423c-4adb-fb5d-c49896c43fcf"
   },
   "outputs": [
    {
     "name": "stdout",
     "output_type": "stream",
     "text": [
      "`Sciences` is a 1-d Tensor with shape: [2]\n",
      "`numbers` is a 1-d Tensor with shape: [3]\n"
     ]
    }
   ],
   "source": [
    "Sciences = tf.constant([\"chemistry\", \"mathematics\"], tf.string)\n",
    "numbers = tf.constant([3.14, 5.16, 2.97], tf.float64)\n",
    "\n",
    "print(\"`Sciences` is a {}-d Tensor with shape: {}\".format(tf.rank(Sciences).numpy(), tf.shape(Sciences)))\n",
    "print(\"`numbers` is a {}-d Tensor with shape: {}\".format(tf.rank(numbers).numpy(), tf.shape(numbers)))"
   ]
  },
  {
   "cell_type": "markdown",
   "metadata": {
    "id": "fIXea11Th6NS"
   },
   "source": [
    "<div dir='rtl'style=\"text-align: right;font-family:verdana;\">\n",
    "\n",
    "\n",
    "در مرحله بعد تنسورهای مرتبه بالاتر را در نظر می‌گیریم. همانطور که می‌دانید انواع تصاویر رنگی که در مسائل یادگیری عمیق و پردازش تصویر با آنها سروکار داریم در واقع تنسور هستند. \n",
    "\n",
    "**تمرین :**\n",
    " در سلول زیر یک تنسور دو بعدی (ماتریس) با ابعاد 4*3 با آرایه‌های دلخواه و یک تنسور 4 بعدی با ابعاد دلخواه تعریف کنید. \n"
   ]
  },
  {
   "cell_type": "code",
   "execution_count": 4,
   "metadata": {
    "id": "1i3GwTXfYBKp"
   },
   "outputs": [
    {
     "name": "stdout",
     "output_type": "stream",
     "text": [
      "a 2-d Tensor with shape: (3, 4)\n",
      "----------------------------------------------------------------------------------------------------\n",
      "tf.Tensor(\n",
      "[[0.52402616 0.29212022 0.5317086  0.354084  ]\n",
      " [0.09723163 0.60891354 0.3893454  0.6638955 ]\n",
      " [0.6267822  0.33055055 0.10908985 0.05992329]], shape=(3, 4), dtype=float32)\n",
      "a 4-d Tensor with shape: (2, 3, 3, 4)\n",
      "----------------------------------------------------------------------------------------------------\n",
      "tf.Tensor(\n",
      "[[[[-0.80067825  1.0877737   1.2519954   1.4058203 ]\n",
      "   [ 1.1869309  -1.8826132   0.5765994  -0.13091   ]\n",
      "   [-1.2363367   0.23839091  1.755183    0.78128046]]\n",
      "\n",
      "  [[ 0.16469145 -0.36891323 -0.13413483 -2.0457785 ]\n",
      "   [-0.1847496  -0.6674807   0.7942632  -0.07020399]\n",
      "   [-0.0538817   0.9645653   0.09229865 -0.36218154]]\n",
      "\n",
      "  [[-0.24470812 -1.492814   -0.26430935  1.1967964 ]\n",
      "   [-1.014761    0.29732212 -2.260184   -0.67377293]\n",
      "   [ 1.1342013   0.20038015 -0.6211003  -1.5863273 ]]]\n",
      "\n",
      "\n",
      " [[[-0.5052801  -0.51772696 -1.682381   -1.7527882 ]\n",
      "   [-0.68137515 -0.36638144 -1.9169844  -0.60066676]\n",
      "   [-0.420613    0.11905835  1.8203768   0.59183586]]\n",
      "\n",
      "  [[-1.2272685  -2.3519557   0.8250344   0.43872833]\n",
      "   [ 1.1843418   0.47166276  0.53009164  0.820544  ]\n",
      "   [-0.4898724  -0.74687374 -0.57090575  0.02715271]]\n",
      "\n",
      "  [[ 0.00524263 -0.74635416 -1.0728693   1.6713943 ]\n",
      "   [ 0.49394155 -0.9501998   0.15343858 -0.95904505]\n",
      "   [-0.07907876  0.6386735  -1.1092477   1.7699289 ]]]], shape=(2, 3, 3, 4), dtype=float32)\n"
     ]
    }
   ],
   "source": [
    "# TODO ...\n",
    "\n",
    "# 2D matrix:\n",
    "two_d_matrix = tf.random.uniform(shape=[3,4])\n",
    "print(f\"a {tf.rank(two_d_matrix).numpy()}-d Tensor with shape: {two_d_matrix.shape}\")\n",
    "print('-'*100)\n",
    "print(two_d_matrix)\n",
    "# 4D tensor:\n",
    "four_d_tensor = tf.random.normal(shape=[2,3,3,4])\n",
    "print(f\"a {tf.rank(four_d_tensor).numpy()}-d Tensor with shape: {four_d_tensor.shape}\")\n",
    "print('-'*100)\n",
    "print(four_d_tensor)"
   ]
  },
  {
   "cell_type": "markdown",
   "metadata": {
    "id": "Iwrb0mzZrrTm"
   },
   "source": [
    "<div dir='rtl'style=\"text-align: right;font-family:verdana;\">\n",
    "\n",
    "\n",
    "**تمرین:**\n",
    "برای ماتریسی که در سلول قبل تعریف کردید، ردیف سوم و ستون دوم ماتریس و همچنین آرایه قرار گرفته در ردیف اول و ستون دوم را نشان دهید. "
   ]
  },
  {
   "cell_type": "code",
   "execution_count": 5,
   "metadata": {
    "id": "K4ehs1cIsi2l"
   },
   "outputs": [],
   "source": [
    "#  The third row of the matrix\n",
    "Third_row = two_d_matrix[2]\n",
    "#  The second column of the matrix\n",
    "second_column = two_d_matrix[:,1]\n",
    "# matrix array\n",
    "scalar_array = two_d_matrix[0, 1]"
   ]
  },
  {
   "cell_type": "markdown",
   "metadata": {
    "id": "JuEPqlmew1J_"
   },
   "source": [
    "\n",
    "## B)  محاسبات روی تنسورها"
   ]
  },
  {
   "cell_type": "markdown",
   "metadata": {
    "id": "M2GF6ThHG704"
   },
   "source": [
    "<div dir='rtl'style=\"text-align: right;font-family:verdana;\">\n",
    "\n",
    "عملیات ریاضی مختلفی را می‌توانیم بر روی تنسورها انجام داده و نتایج را مشاهده کنیم. برای مثال در سلول زیر عمل جمع روی دو مقدار ثابت a و b انجام شده است. \n"
   ]
  },
  {
   "cell_type": "code",
   "execution_count": 6,
   "metadata": {
    "colab": {
     "base_uri": "https://localhost:8080/"
    },
    "id": "bkCyTJAseKyy",
    "outputId": "fabaf320-76e5-4a38-e872-8426c850ad69"
   },
   "outputs": [
    {
     "name": "stdout",
     "output_type": "stream",
     "text": [
      "tf.Tensor(88, shape=(), dtype=int32)\n"
     ]
    }
   ],
   "source": [
    "a = tf.constant(21)\n",
    "b = tf.constant(67)\n",
    "c1 = tf.add(a,b)\n",
    "print(c1)"
   ]
  },
  {
   "cell_type": "markdown",
   "metadata": {
    "id": "Q7JIw3cWdUYW"
   },
   "source": [
    "<div dir='rtl'style=\"text-align: right;font-family:verdana;\">\n",
    "\n",
    "**تمرین:**\n",
    "تابع ساده‌ای در سلول زیر نوشته تا محاسبات زیر را انجام دهد:\n",
    "\n",
    "$e = (a-3)*(2a+b)$\n",
    "\n",
    "\n"
   ]
  },
  {
   "cell_type": "code",
   "execution_count": 7,
   "metadata": {
    "id": "CYbLFS00hLe4"
   },
   "outputs": [],
   "source": [
    "# Please Define a function \n",
    "def func(a,b):\n",
    "    e = (a - 3) * (2 * a + b)\n",
    "    return e"
   ]
  },
  {
   "cell_type": "markdown",
   "metadata": {
    "id": "4kudbboalOK5"
   },
   "source": [
    "\n",
    " <div dir='rtl'style=\"text-align: right;font-family:verdana;\">\n",
    "\n",
    "**تمرین:**\n",
    "  مقدار خروجی این تابع را به ازای  a = 1 و b = 2 نشان دهید:"
   ]
  },
  {
   "cell_type": "code",
   "execution_count": 8,
   "metadata": {
    "id": "VsJ9eOFKqNxy"
   },
   "outputs": [
    {
     "data": {
      "text/plain": [
       "-8"
      ]
     },
     "execution_count": 8,
     "metadata": {},
     "output_type": "execute_result"
    }
   ],
   "source": [
    "# compute the  function output  for a=1 , b=2\n",
    "func(1, 2)"
   ]
  },
  {
   "cell_type": "markdown",
   "metadata": {
    "id": "ffaCwpAk52D9"
   },
   "source": [
    "\n",
    "## C)  شبکه‌های عصبی"
   ]
  },
  {
   "cell_type": "markdown",
   "metadata": {
    "id": "tlurzxLyKono"
   },
   "source": [
    "<div dir='rtl'style=\"text-align: right;font-family:verdana;\">\n",
    "\n",
    "در ادامه می‌خواهیم یاد بگیریم که چگونه یک مدل شبکه عصبی ساده با استفاده از Tensorflow بنویسیم. \n",
    "برای شروع ابتدا یک perceptron ساده با تنها یک لایه $ y = \\sigma(Wx + b)$ در نظر می‌گیریم. \n",
    "\n",
    "\n",
    "**تمرین :** \n",
    "با توجه به موارد زیر در سلول زیر کد یک لایه پرسپترون ساده را با استفاده از Tensorflow بنویسید: \n",
    "\n",
    "- W  ماتریس وزن\n",
    "- b بایاس\n",
    "- x ورودی\n",
    "- $\\sigma$ تابع فعال‌ساز سیگموید\n",
    "- y خروجی\n"
   ]
  },
  {
   "cell_type": "code",
   "execution_count": 9,
   "metadata": {
    "id": "JR0eyj_MDxeB"
   },
   "outputs": [
    {
     "name": "stdout",
     "output_type": "stream",
     "text": [
      "0^0: 0\n",
      "0^1: 1\n",
      "1^0: 1\n",
      "1^1: 1\n"
     ]
    }
   ],
   "source": [
    "### Please Defining simple perseptron with one layer ###\n",
    "def perseptron(W, b, x):\n",
    "    sum = tf.add(tf.matmul(tf.transpose(W), x), b)\n",
    "    return tf.sigmoid(sum)\n",
    "\n",
    "\n",
    "w_ = tf.constant([1,1], dtype=tf.float32, shape=(2,1))\n",
    "b_ = tf.constant(-0.5)\n",
    "\n",
    "for i in range(2):\n",
    "    for j in range(2):\n",
    "        and_ij = perseptron(w_, b_, tf.constant([i,j], dtype=tf.float32, shape=(2,1)))\n",
    "        print(f\"{i}^{j}: {1 if and_ij>0.5 else 0}\")"
   ]
  },
  {
   "cell_type": "markdown",
   "metadata": {
    "id": "U4vtUt1t6Ibe"
   },
   "source": [
    "### Keras Sequential API "
   ]
  },
  {
   "cell_type": "markdown",
   "metadata": {
    "id": "5VY6yG_QTEV7"
   },
   "source": [
    "<div dir='rtl'style=\"text-align: right;font-family:verdana;\">\n",
    "\n",
    "استفاده از Keras Sequential API  یک روش بسیار راحت برای ایجاد مدل‌های شبکه عصبی است. یک مدل متوالی همانطور که از اسم آن پیداست، به شما این امکان را می‌دهد که مدل‌های لایه به لایه را به صورت مرحله به مرحله ایجاد کنید. این روش آسان ترین و در عین حال محدود کننده ترین روش برای ایجاد مدل است. نمونه‌هایی از معماری‌های پی در پی که ممکن است قبلا از آنها استفاده کرده باشید و یا دیده باشید، عبارتند از:\n",
    "\n",
    "\n",
    "*   LeNet\n",
    "*   AlexNet\n",
    "*   VGGNet\n",
    "\n",
    "\n",
    "\n",
    "\n",
    "\n",
    "\n",
    "**تمرین:**\n",
    "حال  با استفاده از کتابخانه keras و مدل Sequential یک لایه کاملا متصل (fully connected) بنویسید.\n",
    "\n",
    "\n"
   ]
  },
  {
   "cell_type": "code",
   "execution_count": 10,
   "metadata": {
    "id": "Xhacnekl6DBG"
   },
   "outputs": [],
   "source": [
    "### Please Defining a neural network using keras  ###\n",
    "from tensorflow.keras import Sequential\n",
    "from tensorflow.keras.layers import Dense\n",
    "\n",
    "fully_connected_model = Sequential([\n",
    "    Dense(4, activation=\"relu\")\n",
    "])\n"
   ]
  },
  {
   "cell_type": "markdown",
   "metadata": {
    "id": "xF8hyq9bUvW1"
   },
   "source": [
    "<div dir='rtl'style=\"text-align: right;font-family:verdana;\">\n",
    "\n",
    "**تمرین:**\n",
    "\n",
    "مدل نوشته شده در سلول قبلی را با استفاده از یک ورودی نمونه تست کنید."
   ]
  },
  {
   "cell_type": "code",
   "execution_count": 11,
   "metadata": {
    "id": "GgSnQUwb8I-S"
   },
   "outputs": [
    {
     "name": "stdout",
     "output_type": "stream",
     "text": [
      "tf.Tensor(\n",
      "[[0.        1.6125267 0.        0.       ]\n",
      " [0.        1.6125267 0.        0.       ]\n",
      " [0.        1.6125267 0.        0.       ]], shape=(3, 4), dtype=float32)\n",
      "weights:\n",
      "[array([[-0.7947121 ,  0.7848967 , -0.81979364, -0.47662362],\n",
      "       [-0.26481688,  0.4197889 , -0.79354614,  0.45974523],\n",
      "       [ 0.32361704,  0.01392519, -0.6722709 , -0.4373809 ],\n",
      "       [ 0.43524617,  0.39391595,  0.39810532,  0.2735147 ]],\n",
      "      dtype=float32), array([0., 0., 0., 0.], dtype=float32)]\n"
     ]
    }
   ],
   "source": [
    "# Test your model \n",
    "x = tf.ones((3,4))\n",
    "print(fully_connected_model(x))\n",
    "\n",
    "print('weights:')\n",
    "print(fully_connected_model.get_weights())"
   ]
  },
  {
   "cell_type": "markdown",
   "metadata": {
    "id": "iFaTNB8X8Uiv"
   },
   "source": [
    "### Model subclassing with Keras "
   ]
  },
  {
   "cell_type": "markdown",
   "metadata": {
    "id": "ZSKGqphYW6Lm"
   },
   "source": [
    "<div dir='rtl'style=\"text-align: right;font-family:verdana;\">\n",
    "\n",
    "یک روش دیگر برای پیاده‌سازی معماری مدل، model subclassing نامیده می‌شود. در این روش به طور کامل قابل تنظیم است و شما را قادر می‌سازد که مدل سفارشی خود را پیاده‌سازی کنید. با این حال این انعطاف‌پذیری هزینه‌هایی هم در بر دارد.\n",
    "\n",
    "**تمرین:**\n",
    "راجع به مزایا و معایای این روش پیاده‌سازی بحث کنید:\n",
    "\n",
    "\n",
    "**تمرین:**\n",
    "\n",
    " شبکه عصبی که در بالا به صورت Sequential تعریف کردید به صورت Subclassing تعریف کنید و مدل را به ازای ورودی داده شده، تست کنید."
   ]
  },
  {
   "cell_type": "code",
   "execution_count": 12,
   "metadata": {
    "id": "0ubrq4zxS9an"
   },
   "outputs": [],
   "source": [
    "###  Please Defining  model using subclassing ###\n",
    "\n",
    "\n"
   ]
  },
  {
   "cell_type": "code",
   "execution_count": 13,
   "metadata": {
    "id": "GiOLprqxT1qh"
   },
   "outputs": [],
   "source": [
    "# Test your model \n",
    "# TODO"
   ]
  },
  {
   "cell_type": "markdown",
   "metadata": {
    "id": "PhIy-rLz6FNP"
   },
   "source": [
    "### Backpropagation"
   ]
  },
  {
   "cell_type": "markdown",
   "metadata": {
    "id": "nPTNWkM_ADfA"
   },
   "source": [
    "<div dir='rtl'style=\"text-align: right;font-family:verdana;\">\n",
    "\n",
    "پس از آشنایی اولیه با ساختن لایه‌های شبکه عصبی می‌توانیم توجه خود را به نحوه پیاده‌سازی آموزش شبکه با backpropagation معطوف کنیم، برای این منظور می‌توانیم از  GradientTape tf استفاده کنیم. \n",
    "\n",
    "هنگامی که یک forward pass در شبکه داریم، تمامی این مسیرها توسط \"tape\" ضبط می‌شود و سپس در محاسبه گرادیان مسیر بازگشت از آنها استفاده می‌شود. به طور پیش فرض \"tape\" ها بعد از بازگشت به عقب برداشته می‌شود، در واقع tf.GradientTape  خاص فقط می‌تواند یک گرادیان را محاسبه کند. \n",
    "\n",
    "برای تابع ساده $ y = x^2$ گرادیان را محاسبه می‌کنیم: "
   ]
  },
  {
   "cell_type": "code",
   "execution_count": 14,
   "metadata": {
    "id": "cEch7SxHDwt5"
   },
   "outputs": [
    {
     "name": "stdout",
     "output_type": "stream",
     "text": [
      "tf.Tensor(6.0, shape=(), dtype=float32)\n"
     ]
    }
   ],
   "source": [
    "### Gradient computation ###\n",
    "\n",
    "# y = x^2\n",
    "# Example: x = 3.0\n",
    "x = tf.Variable(3.0)\n",
    "\n",
    "# Initiate the gradient tape\n",
    "with tf.GradientTape() as tape:\n",
    "  y = x * x\n",
    "dy_dx = tape.gradient(y, x)\n",
    "print(dy_dx)"
   ]
  },
  {
   "cell_type": "markdown",
   "metadata": {
    "id": "3X3aV9s9EYL5"
   },
   "source": [
    "<div dir='rtl'style=\"text-align: right;font-family:verdana;\">\n",
    "\n",
    "اکنون درک می‌کنیم که چگونه از GradientTape برای محاسبه مشتقات استفاده کنیم. در مثال زیر می‌توانیم از روش SGD برای به دست آوردن minimun تابع $L=(x-x_f)^2$ استفاده کنیم. که در این مثال $x_f$ یک متغیر برای مقدار مورد نظر است که سعی می‌کنیم برای آن بهینه‌سازی کنیم. \n",
    "\n",
    "\n",
    "**تمرین:**\n",
    "\n",
    "الگوریتم SGD  را برای تعداد تکرار مشخصی نوشته و با استفاده از tf.GradientTape گرادیان‌ها را محاسبه کنید. همچنین نمودار مربوط به مقدار واقعی و مقدار تخمین زده شده را بر اساس تعداد تکرارها رسم کنید. \n",
    "\n",
    "  \n",
    "\n"
   ]
  },
  {
   "cell_type": "code",
   "execution_count": 15,
   "metadata": {
    "id": "RoGQ0_Bdns2I"
   },
   "outputs": [],
   "source": [
    "### Function minimization ###\n",
    "\n",
    "\n",
    "def sgd_minimize(x_f, x):\n",
    "    with tf.GradientTape() as tape:\n",
    "        L = (x - x_f)**2\n",
    "        gradient = tape.gradient(L, x)\n",
    "    return x - alpha * gradient\n"
   ]
  },
  {
   "cell_type": "code",
   "execution_count": 16,
   "metadata": {
    "id": "MdxyfC4rnzHE"
   },
   "outputs": [
    {
     "data": {
      "text/plain": [
       "[<matplotlib.lines.Line2D at 0x7f985860e730>]"
      ]
     },
     "execution_count": 16,
     "metadata": {},
     "output_type": "execute_result"
    },
    {
     "data": {
      "image/png": "[encoded data removed]",
      "text/plain": [
       "<Figure size 432x288 with 1 Axes>"
      ]
     },
     "metadata": {
      "needs_background": "light"
     },
     "output_type": "display_data"
    }
   ],
   "source": [
    "# Please plot the evolution of x \n",
    "alpha = tf.Variable(0.1)\n",
    "x = tf.Variable(-3.0)\n",
    "weights = []\n",
    "for i in range(100):\n",
    "    x = sgd_minimize(10, x)\n",
    "    x = tf.Variable(x)\n",
    "    weights.append(x)\n",
    "plt.plot(range(100), weights)"
   ]
  }
 ],
 "metadata": {
  "colab": {
   "collapsed_sections": [],
   "name": "HW1_starter.ipynb",
   "provenance": []
  },
  "kernelspec": {
   "display_name": "Python 3 (ipykernel)",
   "language": "python",
   "name": "python3"
  },
  "language_info": {
   "codemirror_mode": {
    "name": "ipython",
    "version": 3
   },
   "file_extension": ".py",
   "mimetype": "text/x-python",
   "name": "python",
   "nbconvert_exporter": "python",
   "pygments_lexer": "ipython3",
   "version": "3.8.10"
  }
 },
 "nbformat": 4,
 "nbformat_minor": 1
}
