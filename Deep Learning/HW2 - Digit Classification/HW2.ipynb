{
 "cells": [
  {
   "cell_type": "markdown",
   "metadata": {
    "id": "Cm1XpLftPi4A"
   },
   "source": [
    "#Homework 2: MNIST Digit Classification\n"
   ]
  },
  {
   "cell_type": "markdown",
   "metadata": {
    "id": "SBLyk5gVcxWC"
   },
   "source": [
    "<div dir='rtl'style=\"text-align: right;font-family:verdana;\">\n",
    "\n",
    "در این تکلیف هدف طراحی مدلی بر اساس شبکه‌های Fully Connected\n",
    "برای حل مساله‌ی دسته‌بندی اعداد دست نویس است.\n",
    "دیتاستی که در اختیار شما قرار داده شده است, دیتاست \n",
    "[MNIST](http://yann.lecun.com/exdb/mnist/) \n",
    "است\n",
    "که شامل ۱۰ کلاس برای دسته‌بندی اعداد دست نویس ۰-۹ است.\n",
    "در این دیتاست در مجموع ۷۰۰۰۰ تصویر برای تمام ۱۰ کلاس در نظر گرفته شده است که شامل ۶۰۰۰۰ تصویر برای آموزش و ۱۰۰۰۰ تصویر برای تست است.\n",
    "اندازه‌ی تمام تصاویر در این دیتاست ۲۸*۲۸\n",
    "می‌باشد.\n",
    "شبکه‌ی طراحی شده باید بتواند تشخیص دهد که تصویر ورودی متعلق به کدام یک از این کلاس‌ها می‌باشد.\n",
    "طراحی تعداد لایه‌های شبکه و تعداد نورون‌ها بر عهده شما می‌باشد.\n",
    "ساختار شبکه‌ی مورد نظر با کراس در نظر گرفته شده است. در ساختار شبکه‌ی خود از لایه‌ی \n",
    "[Flatten](https://www.tensorflow.org/api_docs/python/tf/keras/layers/Flatten)\n",
    "برای یکسان سازی ابعاد ورودی به مدل خود استفاده کنید.\n",
    "در نهایت دقت مدل را براساس معیارهای\n",
    "Accuracy, Precision, Recall\n",
    "و\n",
    "F1_measure \n",
    " بدست آورید.\n",
    "\n",
    "کد شروع در اختیار شما قرار داده شده است. شما موظف هستید قسمت‌هایی که با TODO نشان داده شده است را به بهترین نحو پر کنید تا به دقت بالایی در شبکه خود دست پیدا کنید.\n"
   ]
  },
  {
   "cell_type": "markdown",
   "metadata": {
    "id": "66eiYEtMtgi_"
   },
   "source": [
    "<div dir='rtl'style=\"text-align: right;font-family:verdana;\">\n",
    "\n",
    "تاثیر موارد زیر را بر عملکرد مدلی که طراحی کرده‌اید بررسی و تحلیل کنید:\n",
    "\n",
    "\n",
    "*   تعداد لایه‌های Fully Connected\n",
    "*   تعداد نورون‌های هر لایه\n",
    "* نرخ یادگیری و batch size\n",
    "* توابع بهینه‌ساز\n",
    "* تعداد داده‌های آموزشی و تست"
   ]
  },
  {
   "cell_type": "code",
   "execution_count": 2,
   "metadata": {
    "id": "RsGqx_ai_N8F"
   },
   "outputs": [],
   "source": [
    "%tensorflow_version 2.x\n",
    "import tensorflow as tf\n",
    "import matplotlib.pyplot as plt\n",
    "import numpy as np\n",
    "import random"
   ]
  },
  {
   "cell_type": "markdown",
   "metadata": {
    "id": "HKjrdUtX_N8J"
   },
   "source": [
    "## 1.1 MNIST dataset \n"
   ]
  },
  {
   "cell_type": "code",
   "execution_count": null,
   "metadata": {
    "id": "p2dQsHI3_N8K"
   },
   "outputs": [],
   "source": [
    "mnist = tf.keras.datasets.mnist\n",
    "(train_X, train_Y), (test_X, test_Y) = mnist.load_data()\n",
    "train_X = (np.expand_dims(train_X, axis=-1)/255.).astype(np.float32)\n",
    "train_Y = (train_Y).astype(np.int64)\n",
    "test_X = (np.expand_dims(test_X, axis=-1)/255.).astype(np.float32)\n",
    "test_Y = (test_Y).astype(np.int64)"
   ]
  },
  {
   "cell_type": "code",
   "execution_count": null,
   "metadata": {
    "id": "bDBsR2lP_N8O",
    "scrolled": true
   },
   "outputs": [],
   "source": [
    "plt.figure(figsize=(10,10))\n",
    "random_inds = np.random.choice(60000,16)\n",
    "for i in range(16):\n",
    "    plt.subplot(4,4,i+1)\n",
    "    plt.xticks([])\n",
    "    plt.yticks([])\n",
    "    img_index = random_inds[i]\n",
    "    plt.imshow(np.squeeze(train_X[img_index]), cmap=plt.cm.binary)\n",
    "    plt.xlabel(train_Y[img_index])"
   ]
  },
  {
   "cell_type": "markdown",
   "metadata": {
    "id": "V6hd3Nt1_N8q"
   },
   "source": [
    "## 1.2 Neural Network for Handwritten Digit Classification\n"
   ]
  },
  {
   "cell_type": "code",
   "execution_count": null,
   "metadata": {
    "id": "MMZsbjAkDKpU"
   },
   "outputs": [],
   "source": [
    "# your model\n",
    "def Model_fc(): \n",
    "  fully_connected_model = tf.keras.Sequential([\n",
    "# '''TODO'''\n",
    "  ])\n",
    "  return fully_connected_model\n",
    "\n",
    "model = Model_fc()"
   ]
  },
  {
   "cell_type": "markdown",
   "metadata": {
    "id": "-F7lhJl2csPW"
   },
   "source": [
    "<div dir='rtl'style=\"text-align: right;font-family:verdana;\">\n",
    "\n",
    "در هنگام\n",
    "[compile](https://www.tensorflow.org/api_docs/python/tf/keras/models/Sequential#compile) \n",
    "کردن\n",
    "باید برخی از خصوصیات مورد نیاز هنگام آموزش شبکه مانند تابع\n",
    "هزینه,\n",
    "تابع بهینه‌ساز و معیار برای اندازه‌گیری دقت شبکه\n",
    " مشخص شوند. تاثیر این موارد را در آموزش شبکه مورد بررسی قرار دهید."
   ]
  },
  {
   "cell_type": "code",
   "execution_count": null,
   "metadata": {
    "id": "Lhan11blCaW7"
   },
   "outputs": [],
   "source": [
    "model.compile(# '''TODO''')"
   ]
  },
  {
   "cell_type": "markdown",
   "metadata": {
    "id": "qKF6uW-BCaW-"
   },
   "source": [
    "### Train the model\n",
    "\n"
   ]
  },
  {
   "cell_type": "markdown",
   "metadata": {
    "id": "0DBLVEuXd2JT"
   },
   "source": [
    "<div dir='rtl'style=\"text-align: right;font-family:verdana;\">\n",
    "\n",
    "با فراخوانی تابع\n",
    "[fit](https://www.tensorflow.org/api_docs/python/tf/keras/models/Sequential#fit)\n",
    "می‌توانید مدل خود را بر روی داده‌های دیتاست آموزش دهید. آموزش در تعداد epochها\n",
    " و اندازه‌ی bacthهای مناسب انجام می‌شود.\n",
    " تاثیر تغییر تعداد اوپوک و batch size\n",
    " را مورد بررسی قرار دهید و نتایج را بیان کنید."
   ]
  },
  {
   "cell_type": "code",
   "execution_count": null,
   "metadata": {
    "id": "EFMbIqIvQ2X0"
   },
   "outputs": [],
   "source": [
    "model.fit(# '''TODO''')"
   ]
  },
  {
   "cell_type": "markdown",
   "metadata": {
    "id": "oEw4bZgGCaXB"
   },
   "source": [
    "### Evaluate accuracy on the test dataset\n"
   ]
  },
  {
   "cell_type": "code",
   "execution_count": null,
   "metadata": {
    "id": "VflXLEeECaXC"
   },
   "outputs": [],
   "source": [
    "'''TODO: Use the evaluate method to test the model!'''\n",
    "score = # TODO\n",
    "\n",
    "print('Test score: ', score[0])\n",
    "print('Test accuracy: ', score[1])\n",
    "print(\"%s: %.2f%%\" % (model.metrics_names[1], score[1]*100))"
   ]
  }
 ],
 "metadata": {
  "colab": {
   "collapsed_sections": [],
   "name": "HW2_MNIST_classification.ipynb",
   "provenance": []
  },
  "kernelspec": {
   "display_name": "Python 3 (ipykernel)",
   "language": "python",
   "name": "python3"
  },
  "language_info": {
   "codemirror_mode": {
    "name": "ipython",
    "version": 3
   },
   "file_extension": ".py",
   "mimetype": "text/x-python",
   "name": "python",
   "nbconvert_exporter": "python",
   "pygments_lexer": "ipython3",
   "version": "3.8.10"
  }
 },
 "nbformat": 4,
 "nbformat_minor": 1
}
