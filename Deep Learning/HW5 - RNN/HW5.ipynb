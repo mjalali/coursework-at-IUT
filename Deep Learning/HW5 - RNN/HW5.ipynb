{
 "cells": [
  {
   "cell_type": "markdown",
   "metadata": {
    "id": "yC3jpi49UGhL"
   },
   "source": [
    "# HW5: تولید موسیقی با استفاده از شبکه‌های عصبی بازگشتی\n",
    "Welcome to Homework 5  &#128522;&#9996;"
   ]
  },
  {
   "cell_type": "code",
   "execution_count": null,
   "metadata": {
    "colab": {
     "base_uri": "https://localhost:8080/"
    },
    "id": "u69e9Xfvzc4A",
    "outputId": "7b50617c-17e2-43bd-adc7-5d1fbe38ff9c"
   },
   "outputs": [
    {
     "name": "stdout",
     "output_type": "stream",
     "text": [
      "Drive already mounted at /content/drive; to attempt to forcibly remount, call drive.mount(\"/content/drive\", force_remount=True).\n"
     ]
    }
   ],
   "source": [
    "from google.colab import drive\n",
    "drive.mount('/content/drive')"
   ]
  },
  {
   "cell_type": "markdown",
   "metadata": {
    "id": "5yXL2SSP6Ofh"
   },
   "source": [
    "<div dir='rtl'style=\"text-align: right;font-family:verdana;\">\n",
    "\n",
    "\n",
    "ابتدا بسته‌ها و کتابخانه‌های مورد نیاز را import میکنیم، در طول اجرای کد هر پکیج دیگری که نیاز دارید، قرار دهید. "
   ]
  },
  {
   "cell_type": "code",
   "execution_count": null,
   "metadata": {
    "colab": {
     "base_uri": "https://localhost:8080/"
    },
    "id": "Ilib0lI_zFbT",
    "outputId": "ce03fb53-ad5d-4e3d-b330-b4361c18b6d6"
   },
   "outputs": [
    {
     "name": "stdout",
     "output_type": "stream",
     "text": [
      "Obtaining file:///content/drive/MyDrive/deeplearningcourse\n",
      "Requirement already satisfied: numpy in /usr/local/lib/python3.7/dist-packages (from deeplearningcourse==0.0.0) (1.19.5)\n",
      "Requirement already satisfied: regex in /usr/local/lib/python3.7/dist-packages (from deeplearningcourse==0.0.0) (2019.12.20)\n",
      "Requirement already satisfied: tqdm in /usr/local/lib/python3.7/dist-packages (from deeplearningcourse==0.0.0) (4.62.3)\n",
      "Requirement already satisfied: gym in /usr/local/lib/python3.7/dist-packages (from deeplearningcourse==0.0.0) (0.17.3)\n",
      "Requirement already satisfied: cloudpickle<1.7.0,>=1.2.0 in /usr/local/lib/python3.7/dist-packages (from gym->deeplearningcourse==0.0.0) (1.3.0)\n",
      "Requirement already satisfied: pyglet<=1.5.0,>=1.4.0 in /usr/local/lib/python3.7/dist-packages (from gym->deeplearningcourse==0.0.0) (1.5.0)\n",
      "Requirement already satisfied: scipy in /usr/local/lib/python3.7/dist-packages (from gym->deeplearningcourse==0.0.0) (1.4.1)\n",
      "Requirement already satisfied: future in /usr/local/lib/python3.7/dist-packages (from pyglet<=1.5.0,>=1.4.0->gym->deeplearningcourse==0.0.0) (0.16.0)\n",
      "Installing collected packages: deeplearningcourse\n",
      "  Attempting uninstall: deeplearningcourse\n",
      "    Found existing installation: deeplearningcourse 0.0.0\n",
      "    Can't uninstall 'deeplearningcourse'. No files were found to uninstall.\n",
      "  Running setup.py develop for deeplearningcourse\n",
      "Successfully installed deeplearningcourse-0.0.0\n"
     ]
    }
   ],
   "source": [
    "!pip install -e /content/drive/MyDrive/deeplearningcourse\n",
    "import deeplearningcourse as dlc\n",
    "%tensorflow_version 2.x\n",
    "import tensorflow as tf\n",
    "import numpy as np\n",
    "import matplotlib.pyplot as plt"
   ]
  },
  {
   "cell_type": "markdown",
   "metadata": {
    "id": "E4XwB0mrM14K"
   },
   "source": [
    "\n",
    "\n",
    "## A) مجموعه داده"
   ]
  },
  {
   "cell_type": "markdown",
   "metadata": {
    "id": "v2rwLOYe-tMA"
   },
   "source": [
    "<div dir='rtl'style=\"text-align: right;font-family:verdana;\">\n",
    "\n",
    "ابتدا دیتاست مورد نظر را از طریق پکیجی که در گوگل درایو قرار دایم، load کرده و مراحل بعدی را انجام می‌دهیم. \n",
    "همانطور که گقتیم دیتاست مورد نظر تعدادی آهنگ محلی ایرلندی است که با نماد ABC نشان داده می‌شود. برای درک بهتر می‌توانیم یکی از این آهنگ‌ها را در نماد ABC نشان دهیم. \n",
    "همچنین می‌توانیم این اهنگ را به صورت صوتی نمایش داده و پخش کنیم.\n",
    "\n",
    "\n",
    "\n",
    "\n",
    "\n",
    "*  یکی از نکات مهمی که باید به آن توجه کنید این است که نماد موسیقی فقط شامل اطلاعاتی در مورد نت‌های در حال پخش نمی‌باشد بلکه علاوه بر این اطلاعات، اطلاعات دیگری مانند عنوان آهنگ، کلید و tempo آهنگ نیز وجود دارد. \n",
    "\n"
   ]
  },
  {
   "cell_type": "code",
   "execution_count": null,
   "metadata": {
    "colab": {
     "base_uri": "https://localhost:8080/"
    },
    "id": "4td16DyJWK-M",
    "outputId": "90cfceb7-9228-4ccc-92a0-d048be3b5a36"
   },
   "outputs": [
    {
     "name": "stdout",
     "output_type": "stream",
     "text": [
      "Found 817 songs in text\n",
      "X:24\n",
      "T:Flowers of Edinburgh\n",
      "Z: id:dc-hornpipe-23\n",
      "M:C|\n",
      "L:1/8\n",
      "K:G Major\n",
      "GE|D2DE G2GA|BGBd cBAG|FGEF DEFG|A2FA D2GE|!\n",
      "D2DE G2GA|BGBd efge|dcBA GFGA|B2G2 G2:|!\n",
      "(3def|g2gf gbag|f2fe fagf|edef gfed|B2e2 e2ge|!\n",
      "dBGB d2Bd|edef g2ge|dcBA GFGA|B2G2 G2:|\n"
     ]
    }
   ],
   "source": [
    "\n",
    "songs = dlc.P1.load_data()\n",
    "examplesong = songs[25]\n",
    "print(examplesong)\n",
    "\n"
   ]
  },
  {
   "cell_type": "code",
   "execution_count": null,
   "metadata": {
    "colab": {
     "base_uri": "https://localhost:8080/"
    },
    "id": "JlPfK1Rd9aZF",
    "outputId": "d08e8077-1089-49e1-cf3e-ae8779ee41ac"
   },
   "outputs": [
    {
     "name": "stdout",
     "output_type": "stream",
     "text": [
      "83\n"
     ]
    }
   ],
   "source": [
    "joined_songs = \"\\n\\n\".join(songs) \n",
    "vocab = sorted(set(joined_songs))\n",
    "print( len(vocab))"
   ]
  },
  {
   "cell_type": "markdown",
   "metadata": {
    "id": "ZaaxphA2AvaI"
   },
   "source": [
    "<div dir='rtl'style=\"text-align: right;font-family:verdana;\">\n",
    "\n",
    "\n",
    "روند کار به این صورت است که دنباله‌ای از کاراکترها را به مدل وارد می‌کنیم و مدل را برای پیش‌بینی خروجی که کاراکتر بعدی در هر تایم زمانی است، آموزش می‌دهیم. مدل‌های RNN یک intenal state دارند که به عناصر دیده شده قبلی بستگی دارد، بنابراین اطلاعات مربوط به همه کاراکترهای دیده شده تا یک لحظه مشخص برای ایجاد پیش‌بینی گرفته می‌شوند. \n",
    "\n"
   ]
  },
  {
   "cell_type": "markdown",
   "metadata": {
    "id": "yngUdBh9XYZX"
   },
   "source": [
    "\n",
    "\n",
    "###  A-1) تبدیل متن به بردار"
   ]
  },
  {
   "cell_type": "markdown",
   "metadata": {
    "id": "_dU6j3WFXjf-"
   },
   "source": [
    "<div dir='rtl'style=\"text-align: right;font-family:verdana;\">\n",
    "\n",
    "\n",
    "\n",
    "قبل از شروع آموزش مدل RNN باید یک نمایش عددی از مجوعه داده‌های متنی خود ایجاد کنیم. برای این کار می‌توانیم دو جدول مراجعه ایجاد کنیم که یکی از آنها کاراکترها را به عدد نگاشت می‌کند و دیگری اعداد را به کاراکتر برمی‌گراند. فعلا این کار را برای کاراکترهای منحصر به فرد در دیتاست انجام می‌دهیم. \n",
    "\n",
    "همچنین می‌توانید این نمایش عددی را برای داده‌های متن مشاهده کنید:"
   ]
  },
  {
   "cell_type": "code",
   "execution_count": null,
   "metadata": {
    "id": "Iox-ZyaP9cKg"
   },
   "outputs": [],
   "source": [
    "\n",
    "char2idx = {u:i for i, u in enumerate(vocab)}\n",
    "idx2char = np.array(vocab)"
   ]
  },
  {
   "cell_type": "code",
   "execution_count": null,
   "metadata": {
    "colab": {
     "base_uri": "https://localhost:8080/"
    },
    "id": "qjflwrUiOLtP",
    "outputId": "debeadcd-730b-45c4-ba65-71b85cb63528"
   },
   "outputs": [
    {
     "name": "stdout",
     "output_type": "stream",
     "text": [
      "  '\\n':  0,\n",
      "  ' ' :  1,\n",
      "  '!' :  2,\n",
      "  '\"' :  3,\n",
      "  '#' :  4,\n",
      "  \"'\" :  5,\n",
      "  '(' :  6,\n",
      "  ')' :  7,\n",
      "  ',' :  8,\n",
      "  '-' :  9,\n",
      "  '.' : 10,\n",
      "  '/' : 11,\n",
      "  '0' : 12,\n",
      "  '1' : 13,\n",
      "  '2' : 14,\n",
      "  '3' : 15,\n",
      "  '4' : 16,\n",
      "  '5' : 17,\n",
      "  '6' : 18,\n",
      "  '7' : 19,\n"
     ]
    }
   ],
   "source": [
    "\n",
    "for char,_ in zip(char2idx, range(20)):\n",
    "    print('  {:4s}: {:2d},'.format(repr(char), char2idx[char]))"
   ]
  },
  {
   "cell_type": "markdown",
   "metadata": {
    "id": "omMbST7CPomx"
   },
   "source": [
    "<div dir='rtl'style=\"text-align: right;font-family:verdana;\">\n",
    "\n",
    "**تمرین:**\n",
    "\n",
    "تابعی بنویسید که همه songs string ها را به نمایش عددی تبدیل کند. توجه داشته باشید که خروجی این تابع باید یک np.array با N عنصر باشد که N تعداد کاراکترهای رشته ورودی است. خروجی تابع را vectorized_songs نامگذاری کنید و در مراحل بعدی استفاده کنید."
   ]
  },
  {
   "cell_type": "code",
   "execution_count": null,
   "metadata": {
    "id": "OUDXRyZWLK5R"
   },
   "outputs": [],
   "source": [
    " def vectorize(string):\n",
    "\n",
    "\n",
    "  # ...\n"
   ]
  },
  {
   "cell_type": "code",
   "execution_count": null,
   "metadata": {
    "id": "zNnnMxejLg1f"
   },
   "outputs": [],
   "source": [
    "vectorized_songs = vectorize(joined_songs)"
   ]
  },
  {
   "cell_type": "markdown",
   "metadata": {
    "id": "j8xnNo5uZPqN"
   },
   "source": [
    "<div dir='rtl'style=\"text-align: right;font-family:verdana;\">\n",
    "\n",
    "\n",
    "همچنین می‌توان نحوه نگاشت اولین قسمت متن را به یک نمایش integer نمایش داد."
   ]
  },
  {
   "cell_type": "code",
   "execution_count": null,
   "metadata": {
    "id": "OG3al8a_ZEN7"
   },
   "outputs": [],
   "source": [
    "print ('{} ---- characters mapped to int ----> {}'.format(repr(joined_songs[:20]), vectorized_songs[:20]))"
   ]
  },
  {
   "cell_type": "markdown",
   "metadata": {
    "id": "_-FjpXZAMgIJ"
   },
   "source": [
    "\n",
    "\n",
    "## B)  ایجاد نمونه‌های آموزش و لیبل‌ها"
   ]
  },
  {
   "cell_type": "markdown",
   "metadata": {
    "id": "jG2kOtOcaZmf"
   },
   "source": [
    "<div dir='rtl'style=\"text-align: right;font-family:verdana;\">\n",
    "\n",
    "گام بعدی این است که متن را به دنباله‌های نمونه‌ای که در طول آموزش از آن استفاده می‌کنیم، تبدیل کنیم. هر دنباله ورودی که به مدل RNN می‌دهیم دارای یک seq_length است، همچنین باید یک دنباله target برای هر ورودی تعریف کنیم که در آموزش RNN برای پیش‌بینی کاراکتر بعدی استفاده می‌شود. \n",
    "\n",
    "مثلا اگر فرض کنیم seq_length برابر با چهار باشد و متن ورودی ما \"Hello\"  باشد، دنباله هدف \"ello\" است. \n",
    "\n",
    "\n",
    "\n",
    "*   روش دسته‌ای به ما این امکان را می‌دهد که این جریان کاراکترها را به دنباله‌هایی با اندازه‌های دلخواه تبدیل کنیم.\n",
    "\n",
    "* \n",
    "تابع creat_examples نمونه‌های مورد نظر ما را ایجاد می‌کند و از آن برای تولید داده‌های آموزش و لیبل‌های آن‌ها استفاده می‌کنیم. "
   ]
  },
  {
   "cell_type": "code",
   "execution_count": null,
   "metadata": {
    "id": "Lxjj9RyVS9WA"
   },
   "outputs": [],
   "source": [
    "#  creat training examples and targets \n",
    "\n",
    "def creat_examples(vectorized_songs, seq_length, batch_size):\n",
    "  # the length of the vectorized songs string\n",
    "  n = vectorized_songs.shape[0] - 1\n",
    "  # randomly choose the starting indices for the examples in the training batch\n",
    "  idx = np.random.choice(n-seq_length, batch_size)\n",
    "  input_batch = [vectorized_songs[i : i+seq_length] for i in idx]\n",
    "  output_batch = [vectorized_songs[i+1 : i+seq_length+1] for i in idx]\n",
    "\n",
    "\n",
    "  # x_batch, y_batch provide the true inputs and targets for network training\n",
    "  x_batch = np.reshape(input_batch, [batch_size, seq_length])\n",
    "  y_batch = np.reshape(output_batch, [batch_size, seq_length])\n",
    "  return x_batch, y_batch"
   ]
  },
  {
   "cell_type": "markdown",
   "metadata": {
    "id": "sBE0ldjIevGM"
   },
   "source": [
    "<div dir='rtl'style=\"text-align: right;font-family:verdana;\">\n",
    "\n",
    "\n",
    "   برای درک بهتر می‌توانید چند کاراکتر اول در متن را به همراه target آن مشاهده کنید.\n",
    "\n",
    "\n"
   ]
  },
  {
   "cell_type": "code",
   "execution_count": null,
   "metadata": {
    "id": "mYFyE5C2RK-I"
   },
   "outputs": [],
   "source": [
    "\n",
    "x_train, y_train = creat_examples(vectorized_songs, seq_length= 5, batch_size= 1)\n",
    "\n",
    "for i, (input_idx, target_idx) in enumerate(zip(np.squeeze(x_batch), np.squeeze(y_batch))):\n",
    "    print(\"Step {:3d}\".format(i))\n",
    "    print(\"  input: {} ({:s})\".format(input_idx, repr(idx2char[input_idx])))\n",
    "    print(\"  expected output: {} ({:s})\".format(target_idx, repr(idx2char[target_idx])))"
   ]
  },
  {
   "cell_type": "markdown",
   "metadata": {
    "id": "CBanF8IDamW1"
   },
   "source": [
    "\n",
    "\n",
    "## C) شبکه‌های عصبی بازگشتی"
   ]
  },
  {
   "cell_type": "markdown",
   "metadata": {
    "id": "mbGE09b0iAoO"
   },
   "source": [
    "### C-1) تعریف مدل"
   ]
  },
  {
   "cell_type": "markdown",
   "metadata": {
    "id": "B5N4LjWub93m"
   },
   "source": [
    "<div dir='rtl'style=\"text-align: right;font-family:verdana;\">\n",
    "\n",
    "پس از آماده‌سازی داده‌های آموزش و تست، می‌خواهیم یک شبکه عصبی بازگشتی طراحی کنیم، آموزش دهیم و سپس از مدل آموزش دیده برای تولید موسیقی جدید استفاده کنیم. \n",
    "\n",
    "**تمرین:**\n",
    "\n",
    "مدل پیشنهادی خود را ارائه کنید و آن را آموزش دهید:"
   ]
  },
  {
   "cell_type": "code",
   "execution_count": null,
   "metadata": {
    "id": "PsC-OvfQRK9E"
   },
   "outputs": [],
   "source": [
    "# Defining the RNN Model \n",
    "# TODO"
   ]
  },
  {
   "cell_type": "code",
   "execution_count": null,
   "metadata": {
    "id": "gWU74Rl5dUWu"
   },
   "outputs": [],
   "source": [
    "model.summary()"
   ]
  },
  {
   "cell_type": "markdown",
   "metadata": {
    "id": "0LTy4Vs7kUW2"
   },
   "source": [
    "<div dir='rtl'style=\"text-align: right;font-family:verdana;\">\n",
    "\n",
    "**تمرین:**\n",
    "\n",
    "با در نظر گرفتن طول ورودی برابر با 100 و استفاده از تابع pred اندازه خروجی را نشان دهید:\n",
    " \n",
    "\n",
    "*   \n",
    "توجه داشته باشید که می‌توان مدل را بر روی ورودی‌هایی با هر اندازه آموزش داد.\n",
    "\n",
    "\n",
    "\n",
    "\n",
    "\n",
    "\n",
    "\n"
   ]
  },
  {
   "cell_type": "code",
   "execution_count": null,
   "metadata": {
    "id": "XRLZlMKZ8NRI"
   },
   "outputs": [],
   "source": [
    "x, y = creat_examples(vectorized_songs, seq_length=100, batch_size=32)\n",
    "pred = model(x)\n",
    "\n",
    "# TODO"
   ]
  },
  {
   "cell_type": "markdown",
   "metadata": {
    "id": "LfjZC6WY8qwr"
   },
   "source": [
    "<div dir='rtl'style=\"text-align: right;font-family:verdana;\">\n",
    "\n",
    "همچنین می‌توانیم رمزگشایی انجام دهیم تا ورودی را با متن پیش‌بینی شده توسط مدل آموزش ندیده مقایسه کنیم:"
   ]
  },
  {
   "cell_type": "code",
   "execution_count": null,
   "metadata": {
    "id": "aRlvQJc89JtS"
   },
   "outputs": [],
   "source": [
    "sampled_indices = tf.random.categorical(pred[10], num_samples=1)\n",
    "sampled_indices = tf.squeeze(sampled_indices,axis=-1).numpy()\n",
    "sampled_indices"
   ]
  },
  {
   "cell_type": "code",
   "execution_count": null,
   "metadata": {
    "id": "L3FXSXS98p5_"
   },
   "outputs": [],
   "source": [
    "print(\"input: \\n\", repr(\"\".join(idx2char[x[10]])))\n",
    "print(\"char prediction: \\n\", repr(\"\".join(idx2char[sampled_indices])))"
   ]
  },
  {
   "cell_type": "markdown",
   "metadata": {
    "id": "2aBYvNWk-V2N"
   },
   "source": [
    "### C-2) آموزش مدل"
   ]
  },
  {
   "cell_type": "markdown",
   "metadata": {
    "id": "h2N0j9k5hY48"
   },
   "source": [
    "<div dir='rtl'style=\"text-align: right;font-family:verdana;\">\n",
    "\n",
    "\n",
    "\n",
    "*   همانطور که مشاهده می‌کنیم متن تولید شده توسط مدل آموزش ندیده بسیار بی معنی است و باید برای بهبود مدل را آموزش دهیم. \n",
    "\n",
    "\n",
    "\n",
    "\n",
    "\n",
    "**تمرین:**\n",
    "\n",
    "تابع هزینه مناسب را برای محاسبه و برگرداندن خطا بین لیبل‌های واقعی و پیش‌بینی شده تعریف کنید. \n",
    " ( از تابع هزینه sparse_categorical_crossentropy  استفاده کنید.)"
   ]
  },
  {
   "cell_type": "code",
   "execution_count": null,
   "metadata": {
    "id": "DUheDB3vid4n"
   },
   "outputs": [],
   "source": [
    "# Defining the loss function\n",
    "def loss_function(labels, logits):\n",
    "  # TODO\n",
    "  return loss"
   ]
  },
  {
   "cell_type": "markdown",
   "metadata": {
    "id": "47LDbwgJIQfh"
   },
   "source": [
    "<div dir='rtl'style=\"text-align: right;font-family:verdana;\">\n",
    "\n",
    "\n",
    "**تمرین:**\n",
    "\n",
    "تابع خطا را برای محاسبه و برگرداندن مقدار خطا بین مقدار واقعی و مقدار پیش‌بینی شده مدل آموزش ندیده اعمال کنید و مقدار خطا را نشان دهید:"
   ]
  },
  {
   "cell_type": "code",
   "execution_count": null,
   "metadata": {
    "id": "IShm7iNCJa5V"
   },
   "outputs": [],
   "source": [
    "# TODO"
   ]
  },
  {
   "cell_type": "markdown",
   "metadata": {
    "id": "khR7SKbho7iB"
   },
   "source": [
    "<div dir='rtl'style=\"text-align: right;font-family:verdana;\">\n",
    "\n",
    "\n",
    "**تمرین:**\n",
    "\n",
    "با تعریف هایپرپارامترها به صورت مناسب مدل را آموش دهید:\n",
    "\n",
    "\n",
    "\n",
    "-    هایپرپارامترهای مناسب را برای شبکه انتخاب کرده و نحوه به دست آوردن این هایپرپارامترها را توضیح دهید.\n",
    "\n",
    "-  بعد از تعریف هایپرپارامترها مدل را آموزش داده و دقت آن را روی داده‌های آموزش گزارش دهید. همچنین نمودار خطا را در طی فرایند آموزش رسم کنید.\n",
    "-    تعداد ایپوک‌ها در مرحله آموزش چگونه بر عملکرد مدل تاثیر می‌گذارند؟\n",
    "    \n",
    "\n"
   ]
  },
  {
   "cell_type": "code",
   "execution_count": null,
   "metadata": {
    "id": "KIiRVFjbOful"
   },
   "outputs": [],
   "source": [
    "### Hyperparameter setting and optimization ###\n",
    "num_training_iterations =  #TODO\n",
    "batch_size =   # TODO\n",
    "seq_length =   # TODO\n",
    "learning_rate = #TODO\n",
    "\n",
    "\n",
    "# Checkpoint location: \n",
    "checkpoint_dir = './training_checkpoints'\n",
    "checkpoint_prefix = os.path.join(checkpoint_dir, \"my_ckpt\")"
   ]
  },
  {
   "cell_type": "code",
   "execution_count": null,
   "metadata": {
    "id": "IIDArLUqidzN"
   },
   "outputs": [],
   "source": [
    "### train model\n"
   ]
  },
  {
   "cell_type": "markdown",
   "metadata": {
    "id": "JWV0AEemXs7L"
   },
   "source": [
    "\n",
    "\n",
    "## D) تولید موسیقی با استفاده از شبکه‌های عصبی بازگشتی"
   ]
  },
  {
   "cell_type": "markdown",
   "metadata": {
    "id": "WZ7LIBRzYjZg"
   },
   "source": [
    "<div dir='rtl'style=\"text-align: right;font-family:verdana;\">\n",
    "\n",
    "اکنون می‌توانیم از RNN آموزش دیده برای تولید موسیقی استفاده کنیم. هنگام تولید موسیقی، ما باید مدل را به نوعی تغذیه کنیم تا شروع به کار کند. هنگامی که یک seed تولید شده داریم، می‌توانیم هر یک از کاراکترهای پی در پی را به صورت تکراری پیش‌بینی کنیم. \n",
    "\n",
    "\n",
    "\n",
    "\n",
    "*   به این نکته توجه داشته باشید که مدل RNN از یک لایه softmax  در لایه آخر استفاده می‌کند که برای نتیجه‌گیری به طور مکرر از این توزیع‌ها نمونه می‌گیریم و سپس از نمونه‌های خود برای کدگذاری آهنگ تولید شده قالب ABC استفاده می‌کنیم. \n",
    "\n",
    "**تمرین:**\n",
    "\n",
    "تابع زیر را برای تولید موسیقی با استفاده از مدل آموزش دیده خود تمکیل کنید:\n"
   ]
  },
  {
   "cell_type": "code",
   "execution_count": null,
   "metadata": {
    "id": "dRxdYgYVX5BE"
   },
   "outputs": [],
   "source": [
    "\n",
    "def text_generation(model, start_string, generation_length=1000):\n",
    "# TODO"
   ]
  },
  {
   "cell_type": "markdown",
   "metadata": {
    "id": "yyQ9krWklMSS"
   },
   "source": [
    "<div dir='rtl'style=\"text-align: right;font-family:verdana;\">\n",
    "\n",
    "\n",
    "**تمرین:**\n",
    "\n",
    "اکنون می‌توانید موسیقی‌های تولید شده (text)\n",
    "را به صورت زیر یا به هر طریقی که می‌توانید، در قالب ABC نشان داده یا پخش کنید."
   ]
  },
  {
   "cell_type": "code",
   "execution_count": null,
   "metadata": {
    "id": "McxJVHkTjpeO"
   },
   "outputs": [],
   "source": [
    "songs = dlc.P1.extract_songsnippet(text)\n",
    "for i, song in enumerate(songs): \n",
    "  dlc.P1.play(song)\n",
    "  print(song, end=\"\\n\\n\\n\\n\")"
   ]
  }
 ],
 "metadata": {
  "colab": {
   "collapsed_sections": [],
   "name": "HW5.ipynb",
   "provenance": []
  },
  "kernelspec": {
   "display_name": "Python 3 (ipykernel)",
   "language": "python",
   "name": "python3"
  },
  "language_info": {
   "codemirror_mode": {
    "name": "ipython",
    "version": 3
   },
   "file_extension": ".py",
   "mimetype": "text/x-python",
   "name": "python",
   "nbconvert_exporter": "python",
   "pygments_lexer": "ipython3",
   "version": "3.8.10"
  }
 },
 "nbformat": 4,
 "nbformat_minor": 1
}
